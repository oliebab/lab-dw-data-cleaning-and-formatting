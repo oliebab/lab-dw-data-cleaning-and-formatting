{
 "cells": [
  {
   "cell_type": "markdown",
   "id": "25d7736c-ba17-4aff-b6bb-66eba20fbf4e",
   "metadata": {
    "id": "25d7736c-ba17-4aff-b6bb-66eba20fbf4e"
   },
   "source": [
    "# Lab | Data Cleaning and Formatting"
   ]
  },
  {
   "cell_type": "markdown",
   "id": "d1973e9e-8be6-4039-b70e-d73ee0d94c99",
   "metadata": {
    "id": "d1973e9e-8be6-4039-b70e-d73ee0d94c99"
   },
   "source": [
    "In this lab, we will be working with the customer data from an insurance company, which can be found in the CSV file located at the following link: https://raw.githubusercontent.com/data-bootcamp-v4/data/main/file1.csv\n"
   ]
  },
  {
   "cell_type": "markdown",
   "id": "31b8a9e7-7db9-4604-991b-ef6771603e57",
   "metadata": {
    "id": "31b8a9e7-7db9-4604-991b-ef6771603e57"
   },
   "source": [
    "# Challenge 1: Data Cleaning and Formatting"
   ]
  },
  {
   "cell_type": "markdown",
   "id": "81553f19-9f2c-484b-8940-520aff884022",
   "metadata": {
    "id": "81553f19-9f2c-484b-8940-520aff884022"
   },
   "source": [
    "## Exercise 1: Cleaning Column Names"
   ]
  },
  {
   "cell_type": "markdown",
   "id": "34a929f4-1be4-4fa8-adda-42ffd920be90",
   "metadata": {
    "id": "34a929f4-1be4-4fa8-adda-42ffd920be90"
   },
   "source": [
    "To ensure consistency and ease of use, standardize the column names of the dataframe. Start by taking a first look at the dataframe and identifying any column names that need to be modified. Use appropriate naming conventions and make sure that column names are descriptive and informative.\n",
    "\n",
    "*Hint*:\n",
    "- *Column names should be in lower case*\n",
    "- *White spaces in column names should be replaced by `_`*\n",
    "- *`st` could be replaced for `state`*"
   ]
  },
  {
   "cell_type": "code",
   "execution_count": 707,
   "id": "5810735c-8056-4442-bbf2-dda38d3e284a",
   "metadata": {
    "id": "5810735c-8056-4442-bbf2-dda38d3e284a"
   },
   "outputs": [],
   "source": [
    "# Your code here\n",
    "import pandas as pd\n",
    "df = pd.read_csv(\"https://raw.githubusercontent.com/data-bootcamp-v4/data/main/file1.csv\")"
   ]
  },
  {
   "cell_type": "code",
   "execution_count": 708,
   "id": "17c11788-0bb1-4d87-8d0e-0f0a5391f707",
   "metadata": {},
   "outputs": [
    {
     "data": {
      "text/html": [
       "<div>\n",
       "<style scoped>\n",
       "    .dataframe tbody tr th:only-of-type {\n",
       "        vertical-align: middle;\n",
       "    }\n",
       "\n",
       "    .dataframe tbody tr th {\n",
       "        vertical-align: top;\n",
       "    }\n",
       "\n",
       "    .dataframe thead th {\n",
       "        text-align: right;\n",
       "    }\n",
       "</style>\n",
       "<table border=\"1\" class=\"dataframe\">\n",
       "  <thead>\n",
       "    <tr style=\"text-align: right;\">\n",
       "      <th></th>\n",
       "      <th>Customer</th>\n",
       "      <th>ST</th>\n",
       "      <th>GENDER</th>\n",
       "      <th>Education</th>\n",
       "      <th>Customer Lifetime Value</th>\n",
       "      <th>Income</th>\n",
       "      <th>Monthly Premium Auto</th>\n",
       "      <th>Number of Open Complaints</th>\n",
       "      <th>Policy Type</th>\n",
       "      <th>Vehicle Class</th>\n",
       "      <th>Total Claim Amount</th>\n",
       "    </tr>\n",
       "  </thead>\n",
       "  <tbody>\n",
       "    <tr>\n",
       "      <th>0</th>\n",
       "      <td>RB50392</td>\n",
       "      <td>Washington</td>\n",
       "      <td>NaN</td>\n",
       "      <td>Master</td>\n",
       "      <td>NaN</td>\n",
       "      <td>0.0</td>\n",
       "      <td>1000.0</td>\n",
       "      <td>1/0/00</td>\n",
       "      <td>Personal Auto</td>\n",
       "      <td>Four-Door Car</td>\n",
       "      <td>2.704934</td>\n",
       "    </tr>\n",
       "    <tr>\n",
       "      <th>1</th>\n",
       "      <td>QZ44356</td>\n",
       "      <td>Arizona</td>\n",
       "      <td>F</td>\n",
       "      <td>Bachelor</td>\n",
       "      <td>697953.59%</td>\n",
       "      <td>0.0</td>\n",
       "      <td>94.0</td>\n",
       "      <td>1/0/00</td>\n",
       "      <td>Personal Auto</td>\n",
       "      <td>Four-Door Car</td>\n",
       "      <td>1131.464935</td>\n",
       "    </tr>\n",
       "    <tr>\n",
       "      <th>2</th>\n",
       "      <td>AI49188</td>\n",
       "      <td>Nevada</td>\n",
       "      <td>F</td>\n",
       "      <td>Bachelor</td>\n",
       "      <td>1288743.17%</td>\n",
       "      <td>48767.0</td>\n",
       "      <td>108.0</td>\n",
       "      <td>1/0/00</td>\n",
       "      <td>Personal Auto</td>\n",
       "      <td>Two-Door Car</td>\n",
       "      <td>566.472247</td>\n",
       "    </tr>\n",
       "    <tr>\n",
       "      <th>3</th>\n",
       "      <td>WW63253</td>\n",
       "      <td>California</td>\n",
       "      <td>M</td>\n",
       "      <td>Bachelor</td>\n",
       "      <td>764586.18%</td>\n",
       "      <td>0.0</td>\n",
       "      <td>106.0</td>\n",
       "      <td>1/0/00</td>\n",
       "      <td>Corporate Auto</td>\n",
       "      <td>SUV</td>\n",
       "      <td>529.881344</td>\n",
       "    </tr>\n",
       "    <tr>\n",
       "      <th>4</th>\n",
       "      <td>GA49547</td>\n",
       "      <td>Washington</td>\n",
       "      <td>M</td>\n",
       "      <td>High School or Below</td>\n",
       "      <td>536307.65%</td>\n",
       "      <td>36357.0</td>\n",
       "      <td>68.0</td>\n",
       "      <td>1/0/00</td>\n",
       "      <td>Personal Auto</td>\n",
       "      <td>Four-Door Car</td>\n",
       "      <td>17.269323</td>\n",
       "    </tr>\n",
       "  </tbody>\n",
       "</table>\n",
       "</div>"
      ],
      "text/plain": [
       "  Customer          ST GENDER             Education Customer Lifetime Value  \\\n",
       "0  RB50392  Washington    NaN                Master                     NaN   \n",
       "1  QZ44356     Arizona      F              Bachelor              697953.59%   \n",
       "2  AI49188      Nevada      F              Bachelor             1288743.17%   \n",
       "3  WW63253  California      M              Bachelor              764586.18%   \n",
       "4  GA49547  Washington      M  High School or Below              536307.65%   \n",
       "\n",
       "    Income  Monthly Premium Auto Number of Open Complaints     Policy Type  \\\n",
       "0      0.0                1000.0                    1/0/00   Personal Auto   \n",
       "1      0.0                  94.0                    1/0/00   Personal Auto   \n",
       "2  48767.0                 108.0                    1/0/00   Personal Auto   \n",
       "3      0.0                 106.0                    1/0/00  Corporate Auto   \n",
       "4  36357.0                  68.0                    1/0/00   Personal Auto   \n",
       "\n",
       "   Vehicle Class  Total Claim Amount  \n",
       "0  Four-Door Car            2.704934  \n",
       "1  Four-Door Car         1131.464935  \n",
       "2   Two-Door Car          566.472247  \n",
       "3            SUV          529.881344  \n",
       "4  Four-Door Car           17.269323  "
      ]
     },
     "execution_count": 708,
     "metadata": {},
     "output_type": "execute_result"
    }
   ],
   "source": [
    "df.head()"
   ]
  },
  {
   "cell_type": "code",
   "execution_count": 709,
   "id": "b481077c-fe91-43c3-8e47-29d3a7bbc375",
   "metadata": {},
   "outputs": [
    {
     "data": {
      "text/plain": [
       "Index(['Customer', 'ST', 'GENDER', 'Education', 'Customer Lifetime Value',\n",
       "       'Income', 'Monthly Premium Auto', 'Number of Open Complaints',\n",
       "       'Policy Type', 'Vehicle Class', 'Total Claim Amount'],\n",
       "      dtype='object')"
      ]
     },
     "execution_count": 709,
     "metadata": {},
     "output_type": "execute_result"
    }
   ],
   "source": [
    "df.columns"
   ]
  },
  {
   "cell_type": "code",
   "execution_count": 710,
   "id": "5577f3fc-3d0f-4966-bc9d-5b227695e4a8",
   "metadata": {},
   "outputs": [],
   "source": [
    "df.columns = [col.lower().replace(\" \",\"_\") for col in df.columns]\n",
    "df.rename(columns= {'st': 'state'}, inplace=True)"
   ]
  },
  {
   "cell_type": "code",
   "execution_count": 711,
   "id": "09f1f746-465a-42c1-a01a-195d523862db",
   "metadata": {},
   "outputs": [
    {
     "data": {
      "text/plain": [
       "Index(['customer', 'state', 'gender', 'education', 'customer_lifetime_value',\n",
       "       'income', 'monthly_premium_auto', 'number_of_open_complaints',\n",
       "       'policy_type', 'vehicle_class', 'total_claim_amount'],\n",
       "      dtype='object')"
      ]
     },
     "execution_count": 711,
     "metadata": {},
     "output_type": "execute_result"
    }
   ],
   "source": [
    "df.columns"
   ]
  },
  {
   "cell_type": "markdown",
   "id": "9cb501ec-36ff-4589-b872-6252bb150316",
   "metadata": {
    "id": "9cb501ec-36ff-4589-b872-6252bb150316"
   },
   "source": [
    "## Exercise 2: Cleaning invalid Values"
   ]
  },
  {
   "cell_type": "markdown",
   "id": "771fdcf3-8e20-4b06-9c24-3a93ba2b0909",
   "metadata": {
    "id": "771fdcf3-8e20-4b06-9c24-3a93ba2b0909"
   },
   "source": [
    "The dataset contains columns with inconsistent and incorrect values that could affect the accuracy of our analysis. Therefore, we need to clean these columns to ensure that they only contain valid data.\n",
    "\n",
    "Note that this exercise will focus only on cleaning inconsistent values and will not involve handling null values (NaN or None).\n",
    "\n",
    "*Hint*:\n",
    "- *Gender column contains various inconsistent values such as \"F\", \"M\", \"Femal\", \"Male\", \"female\", which need to be standardized, for example, to \"M\" and \"F\".*\n",
    "- *State abbreviations be can replaced with its full name, for example \"AZ\": \"Arizona\", \"Cali\": \"California\", \"WA\": \"Washington\"*\n",
    "- *In education, \"Bachelors\" could be replaced by \"Bachelor\"*\n",
    "- *In Customer Lifetime Value, delete the `%` character*\n",
    "- *In vehicle class, \"Sports Car\", \"Luxury SUV\" and \"Luxury Car\" could be replaced by \"Luxury\"*"
   ]
  },
  {
   "cell_type": "code",
   "execution_count": 714,
   "id": "3f8ee5cb-50ab-48af-8a9f-9a389804033c",
   "metadata": {
    "id": "3f8ee5cb-50ab-48af-8a9f-9a389804033c"
   },
   "outputs": [
    {
     "data": {
      "text/html": [
       "<div>\n",
       "<style scoped>\n",
       "    .dataframe tbody tr th:only-of-type {\n",
       "        vertical-align: middle;\n",
       "    }\n",
       "\n",
       "    .dataframe tbody tr th {\n",
       "        vertical-align: top;\n",
       "    }\n",
       "\n",
       "    .dataframe thead th {\n",
       "        text-align: right;\n",
       "    }\n",
       "</style>\n",
       "<table border=\"1\" class=\"dataframe\">\n",
       "  <thead>\n",
       "    <tr style=\"text-align: right;\">\n",
       "      <th></th>\n",
       "      <th>customer</th>\n",
       "      <th>state</th>\n",
       "      <th>gender</th>\n",
       "      <th>education</th>\n",
       "      <th>customer_lifetime_value</th>\n",
       "      <th>income</th>\n",
       "      <th>monthly_premium_auto</th>\n",
       "      <th>number_of_open_complaints</th>\n",
       "      <th>policy_type</th>\n",
       "      <th>vehicle_class</th>\n",
       "      <th>total_claim_amount</th>\n",
       "    </tr>\n",
       "  </thead>\n",
       "  <tbody>\n",
       "    <tr>\n",
       "      <th>0</th>\n",
       "      <td>RB50392</td>\n",
       "      <td>Washington</td>\n",
       "      <td>NaN</td>\n",
       "      <td>Master</td>\n",
       "      <td>NaN</td>\n",
       "      <td>0.0</td>\n",
       "      <td>1000.0</td>\n",
       "      <td>1/0/00</td>\n",
       "      <td>Personal Auto</td>\n",
       "      <td>Four-Door Car</td>\n",
       "      <td>2.704934</td>\n",
       "    </tr>\n",
       "    <tr>\n",
       "      <th>1</th>\n",
       "      <td>QZ44356</td>\n",
       "      <td>Arizona</td>\n",
       "      <td>F</td>\n",
       "      <td>Bachelor</td>\n",
       "      <td>697953.59%</td>\n",
       "      <td>0.0</td>\n",
       "      <td>94.0</td>\n",
       "      <td>1/0/00</td>\n",
       "      <td>Personal Auto</td>\n",
       "      <td>Four-Door Car</td>\n",
       "      <td>1131.464935</td>\n",
       "    </tr>\n",
       "    <tr>\n",
       "      <th>2</th>\n",
       "      <td>AI49188</td>\n",
       "      <td>Nevada</td>\n",
       "      <td>F</td>\n",
       "      <td>Bachelor</td>\n",
       "      <td>1288743.17%</td>\n",
       "      <td>48767.0</td>\n",
       "      <td>108.0</td>\n",
       "      <td>1/0/00</td>\n",
       "      <td>Personal Auto</td>\n",
       "      <td>Two-Door Car</td>\n",
       "      <td>566.472247</td>\n",
       "    </tr>\n",
       "    <tr>\n",
       "      <th>3</th>\n",
       "      <td>WW63253</td>\n",
       "      <td>California</td>\n",
       "      <td>M</td>\n",
       "      <td>Bachelor</td>\n",
       "      <td>764586.18%</td>\n",
       "      <td>0.0</td>\n",
       "      <td>106.0</td>\n",
       "      <td>1/0/00</td>\n",
       "      <td>Corporate Auto</td>\n",
       "      <td>SUV</td>\n",
       "      <td>529.881344</td>\n",
       "    </tr>\n",
       "    <tr>\n",
       "      <th>4</th>\n",
       "      <td>GA49547</td>\n",
       "      <td>Washington</td>\n",
       "      <td>M</td>\n",
       "      <td>High School or Below</td>\n",
       "      <td>536307.65%</td>\n",
       "      <td>36357.0</td>\n",
       "      <td>68.0</td>\n",
       "      <td>1/0/00</td>\n",
       "      <td>Personal Auto</td>\n",
       "      <td>Four-Door Car</td>\n",
       "      <td>17.269323</td>\n",
       "    </tr>\n",
       "  </tbody>\n",
       "</table>\n",
       "</div>"
      ],
      "text/plain": [
       "  customer       state gender             education customer_lifetime_value  \\\n",
       "0  RB50392  Washington    NaN                Master                     NaN   \n",
       "1  QZ44356     Arizona      F              Bachelor              697953.59%   \n",
       "2  AI49188      Nevada      F              Bachelor             1288743.17%   \n",
       "3  WW63253  California      M              Bachelor              764586.18%   \n",
       "4  GA49547  Washington      M  High School or Below              536307.65%   \n",
       "\n",
       "    income  monthly_premium_auto number_of_open_complaints     policy_type  \\\n",
       "0      0.0                1000.0                    1/0/00   Personal Auto   \n",
       "1      0.0                  94.0                    1/0/00   Personal Auto   \n",
       "2  48767.0                 108.0                    1/0/00   Personal Auto   \n",
       "3      0.0                 106.0                    1/0/00  Corporate Auto   \n",
       "4  36357.0                  68.0                    1/0/00   Personal Auto   \n",
       "\n",
       "   vehicle_class  total_claim_amount  \n",
       "0  Four-Door Car            2.704934  \n",
       "1  Four-Door Car         1131.464935  \n",
       "2   Two-Door Car          566.472247  \n",
       "3            SUV          529.881344  \n",
       "4  Four-Door Car           17.269323  "
      ]
     },
     "execution_count": 714,
     "metadata": {},
     "output_type": "execute_result"
    }
   ],
   "source": [
    "# Your code here\n",
    "df.head()"
   ]
  },
  {
   "cell_type": "code",
   "execution_count": 715,
   "id": "c4882a06-0c05-4c1f-8579-b2a3b597edba",
   "metadata": {},
   "outputs": [
    {
     "data": {
      "text/plain": [
       "array([nan, 'F', 'M', 'Femal', 'Male', 'female'], dtype=object)"
      ]
     },
     "execution_count": 715,
     "metadata": {},
     "output_type": "execute_result"
    }
   ],
   "source": [
    "df['gender'].unique()"
   ]
  },
  {
   "cell_type": "code",
   "execution_count": 716,
   "id": "94cd7cb0-786f-4cac-8bba-507a73eaf693",
   "metadata": {},
   "outputs": [],
   "source": [
    "df['gender'] = df['gender'].str.strip().str.lower().replace({\n",
    "    'male': 'M', \n",
    "    'm': 'M', \n",
    "    'female': 'F', \n",
    "    'f': 'F', \n",
    "    'femal': 'F'\n",
    "})"
   ]
  },
  {
   "cell_type": "code",
   "execution_count": 717,
   "id": "ed48478e-5c80-4a02-b2f5-1f118a65c387",
   "metadata": {},
   "outputs": [
    {
     "data": {
      "text/plain": [
       "array([nan, 'F', 'M'], dtype=object)"
      ]
     },
     "execution_count": 717,
     "metadata": {},
     "output_type": "execute_result"
    }
   ],
   "source": [
    "df['gender'].unique()"
   ]
  },
  {
   "cell_type": "code",
   "execution_count": 718,
   "id": "8d084438-3862-413d-ae0b-ee84f63d73b1",
   "metadata": {},
   "outputs": [
    {
     "data": {
      "text/plain": [
       "array(['Washington', 'Arizona', 'Nevada', 'California', 'Oregon', 'Cali',\n",
       "       'AZ', 'WA', nan], dtype=object)"
      ]
     },
     "execution_count": 718,
     "metadata": {},
     "output_type": "execute_result"
    }
   ],
   "source": [
    "df['state'].unique()"
   ]
  },
  {
   "cell_type": "code",
   "execution_count": 719,
   "id": "322541a7-4fe5-41a4-8009-0aba19c518cf",
   "metadata": {},
   "outputs": [],
   "source": [
    "df['state'] = df['state'].replace({\n",
    "    'AZ': 'Arizona', \n",
    "    'WA': 'Washington',\n",
    "    'Cali': 'California'\n",
    "})"
   ]
  },
  {
   "cell_type": "code",
   "execution_count": 720,
   "id": "a0d10267-225d-41d9-a846-a289d7440dd2",
   "metadata": {},
   "outputs": [
    {
     "data": {
      "text/plain": [
       "array(['Washington', 'Arizona', 'Nevada', 'California', 'Oregon', nan],\n",
       "      dtype=object)"
      ]
     },
     "execution_count": 720,
     "metadata": {},
     "output_type": "execute_result"
    }
   ],
   "source": [
    "df['state'].unique()"
   ]
  },
  {
   "cell_type": "code",
   "execution_count": 721,
   "id": "8b58cdaf-1d11-4bea-975e-daf6e2d1831c",
   "metadata": {},
   "outputs": [
    {
     "data": {
      "text/plain": [
       "array(['Master', 'Bachelor', 'High School or Below', 'College',\n",
       "       'Bachelors', 'Doctor', nan], dtype=object)"
      ]
     },
     "execution_count": 721,
     "metadata": {},
     "output_type": "execute_result"
    }
   ],
   "source": [
    "df['education'].unique()"
   ]
  },
  {
   "cell_type": "code",
   "execution_count": 722,
   "id": "b9a335f7-49a6-4527-acb7-697d7ce856d5",
   "metadata": {},
   "outputs": [],
   "source": [
    "df['education'] = df['education'].replace({\n",
    "    'Bachelors': 'Bachelor'\n",
    "})"
   ]
  },
  {
   "cell_type": "code",
   "execution_count": 723,
   "id": "dab60fbe-767d-40d9-8d82-7a1fe33da7f2",
   "metadata": {},
   "outputs": [
    {
     "data": {
      "text/plain": [
       "array(['Master', 'Bachelor', 'High School or Below', 'College', 'Doctor',\n",
       "       nan], dtype=object)"
      ]
     },
     "execution_count": 723,
     "metadata": {},
     "output_type": "execute_result"
    }
   ],
   "source": [
    "df['education'].unique()"
   ]
  },
  {
   "cell_type": "code",
   "execution_count": 724,
   "id": "4c4d852b-ce68-4506-a278-2c69fb9f4df9",
   "metadata": {},
   "outputs": [
    {
     "data": {
      "text/plain": [
       "array([nan, '697953.59%', '1288743.17%', ..., '2031499.76%', '323912.47%',\n",
       "       '899704.02%'], dtype=object)"
      ]
     },
     "execution_count": 724,
     "metadata": {},
     "output_type": "execute_result"
    }
   ],
   "source": [
    "df['customer_lifetime_value'].unique()"
   ]
  },
  {
   "cell_type": "code",
   "execution_count": 725,
   "id": "6bfe227e-0dc9-4175-9c54-b581841f59c8",
   "metadata": {},
   "outputs": [],
   "source": [
    "df['customer_lifetime_value'] = df['customer_lifetime_value'].str.replace(\"%\",\"\")"
   ]
  },
  {
   "cell_type": "code",
   "execution_count": 726,
   "id": "628f6937-1aed-4858-8c80-37a801d4b04b",
   "metadata": {},
   "outputs": [
    {
     "data": {
      "text/plain": [
       "array([nan, '697953.59', '1288743.17', ..., '2031499.76', '323912.47',\n",
       "       '899704.02'], dtype=object)"
      ]
     },
     "execution_count": 726,
     "metadata": {},
     "output_type": "execute_result"
    }
   ],
   "source": [
    "df['customer_lifetime_value'].unique()"
   ]
  },
  {
   "cell_type": "code",
   "execution_count": 727,
   "id": "8980ce98-3ca1-4c5e-8944-d1f5a5d21707",
   "metadata": {},
   "outputs": [
    {
     "data": {
      "text/plain": [
       "array(['Four-Door Car', 'Two-Door Car', 'SUV', 'Luxury SUV', 'Sports Car',\n",
       "       'Luxury Car', nan], dtype=object)"
      ]
     },
     "execution_count": 727,
     "metadata": {},
     "output_type": "execute_result"
    }
   ],
   "source": [
    "df['vehicle_class'].unique()"
   ]
  },
  {
   "cell_type": "code",
   "execution_count": 728,
   "id": "79dfeae2-b38b-4cd1-9515-080c54d31895",
   "metadata": {},
   "outputs": [],
   "source": [
    "df['vehicle_class'] = df['vehicle_class'].replace({\n",
    "    'Luxury SUV': 'Luxury', \n",
    "    'Sports Car': 'Luxury',\n",
    "    'Luxury Car': 'Luxury'\n",
    "})"
   ]
  },
  {
   "cell_type": "code",
   "execution_count": 729,
   "id": "d4ad19b0-4552-48c4-a036-18031cdb305f",
   "metadata": {},
   "outputs": [
    {
     "data": {
      "text/plain": [
       "array(['Four-Door Car', 'Two-Door Car', 'SUV', 'Luxury', nan],\n",
       "      dtype=object)"
      ]
     },
     "execution_count": 729,
     "metadata": {},
     "output_type": "execute_result"
    }
   ],
   "source": [
    "df['vehicle_class'].unique()"
   ]
  },
  {
   "cell_type": "markdown",
   "id": "85ff78ce-0174-4890-9db3-8048b7d7d2d0",
   "metadata": {
    "id": "85ff78ce-0174-4890-9db3-8048b7d7d2d0"
   },
   "source": [
    "## Exercise 3: Formatting data types"
   ]
  },
  {
   "cell_type": "markdown",
   "id": "b91c2cf8-79a2-4baf-9f65-ff2fb22270bd",
   "metadata": {
    "id": "b91c2cf8-79a2-4baf-9f65-ff2fb22270bd"
   },
   "source": [
    "The data types of many columns in the dataset appear to be incorrect. This could impact the accuracy of our analysis. To ensure accurate analysis, we need to correct the data types of these columns. Please update the data types of the columns as appropriate."
   ]
  },
  {
   "cell_type": "markdown",
   "id": "43e5d853-ff9e-43b2-9d92-aef2f78764f3",
   "metadata": {
    "id": "43e5d853-ff9e-43b2-9d92-aef2f78764f3"
   },
   "source": [
    "It is important to note that this exercise does not involve handling null values (NaN or None)."
   ]
  },
  {
   "cell_type": "markdown",
   "id": "329ca691-9196-4419-8969-3596746237a1",
   "metadata": {
    "id": "329ca691-9196-4419-8969-3596746237a1"
   },
   "source": [
    "*Hint*:\n",
    "- *Customer lifetime value should be numeric*\n",
    "- *Number of open complaints has an incorrect format. Look at the different values it takes with `unique()` and take the middle value. As an example, 1/5/00 should be 5. Number of open complaints is a string - remember you can use `split()` to deal with it and take the number you need. Finally, since it should be numeric, cast the column to be in its proper type.*"
   ]
  },
  {
   "cell_type": "code",
   "execution_count": 734,
   "id": "eb8f5991-73e9-405f-bf1c-6b7c589379a9",
   "metadata": {
    "id": "eb8f5991-73e9-405f-bf1c-6b7c589379a9"
   },
   "outputs": [],
   "source": [
    "# Your code here\n",
    "df['customer_lifetime_value'] = df['customer_lifetime_value'].astype(float)"
   ]
  },
  {
   "cell_type": "code",
   "execution_count": 735,
   "id": "03cc652a-ece8-4975-86a4-4d78b61a8d1a",
   "metadata": {},
   "outputs": [
    {
     "data": {
      "text/plain": [
       "array([       nan,  697953.59, 1288743.17, ..., 2031499.76,  323912.47,\n",
       "        899704.02])"
      ]
     },
     "execution_count": 735,
     "metadata": {},
     "output_type": "execute_result"
    }
   ],
   "source": [
    "df['customer_lifetime_value'].unique()"
   ]
  },
  {
   "cell_type": "code",
   "execution_count": 736,
   "id": "3735867e-74c1-41e4-9ac5-5dd2622312f6",
   "metadata": {},
   "outputs": [
    {
     "data": {
      "text/plain": [
       "array([       nan,  697953.59, 1288743.17, ..., 2031499.76,  323912.47,\n",
       "        899704.02])"
      ]
     },
     "execution_count": 736,
     "metadata": {},
     "output_type": "execute_result"
    }
   ],
   "source": [
    "df['customer_lifetime_value'].unique()"
   ]
  },
  {
   "cell_type": "code",
   "execution_count": 737,
   "id": "ff8d74cf-38e1-4557-beae-382c8f4881e0",
   "metadata": {},
   "outputs": [
    {
     "data": {
      "text/plain": [
       "array(['1/0/00', '1/2/00', '1/1/00', '1/3/00', '1/5/00', '1/4/00', nan],\n",
       "      dtype=object)"
      ]
     },
     "execution_count": 737,
     "metadata": {},
     "output_type": "execute_result"
    }
   ],
   "source": [
    "df['number_of_open_complaints'].unique()"
   ]
  },
  {
   "cell_type": "code",
   "execution_count": 738,
   "id": "c0fe9554-0c0c-484a-8210-6936ff5fabb1",
   "metadata": {},
   "outputs": [],
   "source": [
    "df['number_of_open_complaints'] = df['number_of_open_complaints'].dropna().apply(lambda x: float(x.split(\"/\")[1]))"
   ]
  },
  {
   "cell_type": "code",
   "execution_count": 739,
   "id": "0b92e6f5-27f8-42f7-838b-ade6b157458f",
   "metadata": {},
   "outputs": [
    {
     "data": {
      "text/plain": [
       "array([ 0.,  2.,  1.,  3.,  5.,  4., nan])"
      ]
     },
     "execution_count": 739,
     "metadata": {},
     "output_type": "execute_result"
    }
   ],
   "source": [
    "df['number_of_open_complaints'].unique()"
   ]
  },
  {
   "cell_type": "markdown",
   "id": "14c52e28-2d0c-4dd2-8bd5-3476e34fadc1",
   "metadata": {
    "id": "14c52e28-2d0c-4dd2-8bd5-3476e34fadc1"
   },
   "source": [
    "## Exercise 4: Dealing with Null values"
   ]
  },
  {
   "cell_type": "markdown",
   "id": "34b9a20f-7d32-4417-975e-1b4dfb0e16cd",
   "metadata": {
    "id": "34b9a20f-7d32-4417-975e-1b4dfb0e16cd"
   },
   "source": [
    "Identify any columns with null or missing values. Identify how many null values each column has. You can use the `isnull()` function in pandas to find columns with null values.\n",
    "\n",
    "Decide on a strategy for handling the null values. There are several options, including:\n",
    "\n",
    "- Drop the rows or columns with null values\n",
    "- Fill the null values with a specific value (such as the column mean or median for numerical variables, and mode for categorical variables)\n",
    "- Fill the null values with the previous or next value in the column\n",
    "- Fill the null values based on a more complex algorithm or model (note: we haven't covered this yet)\n",
    "\n",
    "Implement your chosen strategy to handle the null values. You can use the `fillna()` function in pandas to fill null values or `dropna()` function to drop null values.\n",
    "\n",
    "Verify that your strategy has successfully handled the null values. You can use the `isnull()` function again to check if there are still null values in the dataset.\n",
    "\n",
    "Remember to document your process and explain your reasoning for choosing a particular strategy for handling null values.\n",
    "\n",
    "After formatting data types, as a last step, convert all the numeric variables to integers."
   ]
  },
  {
   "cell_type": "code",
   "execution_count": 742,
   "id": "f184fc35-7831-4836-a0a5-e7f99e01b40e",
   "metadata": {
    "id": "f184fc35-7831-4836-a0a5-e7f99e01b40e"
   },
   "outputs": [],
   "source": [
    "# Your code here\n",
    "df_numerical = df.select_dtypes(include='number')\n",
    "df_categorical = df.select_dtypes(include='object')"
   ]
  },
  {
   "cell_type": "code",
   "execution_count": 743,
   "id": "c452a693-12ed-4a9c-94e7-9481f58adbf7",
   "metadata": {},
   "outputs": [
    {
     "data": {
      "text/html": [
       "<div>\n",
       "<style scoped>\n",
       "    .dataframe tbody tr th:only-of-type {\n",
       "        vertical-align: middle;\n",
       "    }\n",
       "\n",
       "    .dataframe tbody tr th {\n",
       "        vertical-align: top;\n",
       "    }\n",
       "\n",
       "    .dataframe thead th {\n",
       "        text-align: right;\n",
       "    }\n",
       "</style>\n",
       "<table border=\"1\" class=\"dataframe\">\n",
       "  <thead>\n",
       "    <tr style=\"text-align: right;\">\n",
       "      <th></th>\n",
       "      <th>customer</th>\n",
       "      <th>state</th>\n",
       "      <th>gender</th>\n",
       "      <th>education</th>\n",
       "      <th>policy_type</th>\n",
       "      <th>vehicle_class</th>\n",
       "    </tr>\n",
       "  </thead>\n",
       "  <tbody>\n",
       "    <tr>\n",
       "      <th>1</th>\n",
       "      <td>QZ44356</td>\n",
       "      <td>Arizona</td>\n",
       "      <td>F</td>\n",
       "      <td>Bachelor</td>\n",
       "      <td>Personal Auto</td>\n",
       "      <td>Four-Door Car</td>\n",
       "    </tr>\n",
       "    <tr>\n",
       "      <th>2</th>\n",
       "      <td>AI49188</td>\n",
       "      <td>Nevada</td>\n",
       "      <td>F</td>\n",
       "      <td>Bachelor</td>\n",
       "      <td>Personal Auto</td>\n",
       "      <td>Two-Door Car</td>\n",
       "    </tr>\n",
       "    <tr>\n",
       "      <th>3</th>\n",
       "      <td>WW63253</td>\n",
       "      <td>California</td>\n",
       "      <td>M</td>\n",
       "      <td>Bachelor</td>\n",
       "      <td>Corporate Auto</td>\n",
       "      <td>SUV</td>\n",
       "    </tr>\n",
       "    <tr>\n",
       "      <th>4</th>\n",
       "      <td>GA49547</td>\n",
       "      <td>Washington</td>\n",
       "      <td>M</td>\n",
       "      <td>High School or Below</td>\n",
       "      <td>Personal Auto</td>\n",
       "      <td>Four-Door Car</td>\n",
       "    </tr>\n",
       "    <tr>\n",
       "      <th>5</th>\n",
       "      <td>OC83172</td>\n",
       "      <td>Oregon</td>\n",
       "      <td>F</td>\n",
       "      <td>Bachelor</td>\n",
       "      <td>Personal Auto</td>\n",
       "      <td>Two-Door Car</td>\n",
       "    </tr>\n",
       "    <tr>\n",
       "      <th>...</th>\n",
       "      <td>...</td>\n",
       "      <td>...</td>\n",
       "      <td>...</td>\n",
       "      <td>...</td>\n",
       "      <td>...</td>\n",
       "      <td>...</td>\n",
       "    </tr>\n",
       "    <tr>\n",
       "      <th>1066</th>\n",
       "      <td>TM65736</td>\n",
       "      <td>Oregon</td>\n",
       "      <td>M</td>\n",
       "      <td>Master</td>\n",
       "      <td>Personal Auto</td>\n",
       "      <td>Four-Door Car</td>\n",
       "    </tr>\n",
       "    <tr>\n",
       "      <th>1067</th>\n",
       "      <td>VJ51327</td>\n",
       "      <td>California</td>\n",
       "      <td>F</td>\n",
       "      <td>High School or Below</td>\n",
       "      <td>Personal Auto</td>\n",
       "      <td>SUV</td>\n",
       "    </tr>\n",
       "    <tr>\n",
       "      <th>1068</th>\n",
       "      <td>GS98873</td>\n",
       "      <td>Arizona</td>\n",
       "      <td>F</td>\n",
       "      <td>Bachelor</td>\n",
       "      <td>Personal Auto</td>\n",
       "      <td>Four-Door Car</td>\n",
       "    </tr>\n",
       "    <tr>\n",
       "      <th>1069</th>\n",
       "      <td>CW49887</td>\n",
       "      <td>California</td>\n",
       "      <td>F</td>\n",
       "      <td>Master</td>\n",
       "      <td>Special Auto</td>\n",
       "      <td>SUV</td>\n",
       "    </tr>\n",
       "    <tr>\n",
       "      <th>1070</th>\n",
       "      <td>MY31220</td>\n",
       "      <td>California</td>\n",
       "      <td>F</td>\n",
       "      <td>College</td>\n",
       "      <td>Personal Auto</td>\n",
       "      <td>Two-Door Car</td>\n",
       "    </tr>\n",
       "  </tbody>\n",
       "</table>\n",
       "<p>954 rows × 6 columns</p>\n",
       "</div>"
      ],
      "text/plain": [
       "     customer       state gender             education     policy_type  \\\n",
       "1     QZ44356     Arizona      F              Bachelor   Personal Auto   \n",
       "2     AI49188      Nevada      F              Bachelor   Personal Auto   \n",
       "3     WW63253  California      M              Bachelor  Corporate Auto   \n",
       "4     GA49547  Washington      M  High School or Below   Personal Auto   \n",
       "5     OC83172      Oregon      F              Bachelor   Personal Auto   \n",
       "...       ...         ...    ...                   ...             ...   \n",
       "1066  TM65736      Oregon      M                Master   Personal Auto   \n",
       "1067  VJ51327  California      F  High School or Below   Personal Auto   \n",
       "1068  GS98873     Arizona      F              Bachelor   Personal Auto   \n",
       "1069  CW49887  California      F                Master    Special Auto   \n",
       "1070  MY31220  California      F               College   Personal Auto   \n",
       "\n",
       "      vehicle_class  \n",
       "1     Four-Door Car  \n",
       "2      Two-Door Car  \n",
       "3               SUV  \n",
       "4     Four-Door Car  \n",
       "5      Two-Door Car  \n",
       "...             ...  \n",
       "1066  Four-Door Car  \n",
       "1067            SUV  \n",
       "1068  Four-Door Car  \n",
       "1069            SUV  \n",
       "1070   Two-Door Car  \n",
       "\n",
       "[954 rows x 6 columns]"
      ]
     },
     "execution_count": 743,
     "metadata": {},
     "output_type": "execute_result"
    }
   ],
   "source": [
    "df_categorical.dropna()"
   ]
  },
  {
   "cell_type": "code",
   "execution_count": 744,
   "id": "75734bd8-48e2-42d7-b5f4-07993969ff54",
   "metadata": {},
   "outputs": [
    {
     "data": {
      "text/html": [
       "<div>\n",
       "<style scoped>\n",
       "    .dataframe tbody tr th:only-of-type {\n",
       "        vertical-align: middle;\n",
       "    }\n",
       "\n",
       "    .dataframe tbody tr th {\n",
       "        vertical-align: top;\n",
       "    }\n",
       "\n",
       "    .dataframe thead th {\n",
       "        text-align: right;\n",
       "    }\n",
       "</style>\n",
       "<table border=\"1\" class=\"dataframe\">\n",
       "  <thead>\n",
       "    <tr style=\"text-align: right;\">\n",
       "      <th></th>\n",
       "      <th>customer_lifetime_value</th>\n",
       "      <th>income</th>\n",
       "      <th>monthly_premium_auto</th>\n",
       "      <th>number_of_open_complaints</th>\n",
       "      <th>total_claim_amount</th>\n",
       "    </tr>\n",
       "  </thead>\n",
       "  <tbody>\n",
       "    <tr>\n",
       "      <th>count</th>\n",
       "      <td>1.068000e+03</td>\n",
       "      <td>1071.000000</td>\n",
       "      <td>1071.000000</td>\n",
       "      <td>1071.000000</td>\n",
       "      <td>1071.000000</td>\n",
       "    </tr>\n",
       "    <tr>\n",
       "      <th>mean</th>\n",
       "      <td>7.936903e+05</td>\n",
       "      <td>39295.701214</td>\n",
       "      <td>193.234360</td>\n",
       "      <td>0.394024</td>\n",
       "      <td>404.986909</td>\n",
       "    </tr>\n",
       "    <tr>\n",
       "      <th>std</th>\n",
       "      <td>6.434784e+05</td>\n",
       "      <td>30469.427060</td>\n",
       "      <td>1601.190369</td>\n",
       "      <td>0.883769</td>\n",
       "      <td>293.027260</td>\n",
       "    </tr>\n",
       "    <tr>\n",
       "      <th>min</th>\n",
       "      <td>2.004351e+05</td>\n",
       "      <td>0.000000</td>\n",
       "      <td>61.000000</td>\n",
       "      <td>0.000000</td>\n",
       "      <td>0.382107</td>\n",
       "    </tr>\n",
       "    <tr>\n",
       "      <th>25%</th>\n",
       "      <td>4.034080e+05</td>\n",
       "      <td>14072.000000</td>\n",
       "      <td>68.000000</td>\n",
       "      <td>0.000000</td>\n",
       "      <td>202.157702</td>\n",
       "    </tr>\n",
       "    <tr>\n",
       "      <th>50%</th>\n",
       "      <td>5.881742e+05</td>\n",
       "      <td>36234.000000</td>\n",
       "      <td>83.000000</td>\n",
       "      <td>0.000000</td>\n",
       "      <td>354.729129</td>\n",
       "    </tr>\n",
       "    <tr>\n",
       "      <th>75%</th>\n",
       "      <td>8.962872e+05</td>\n",
       "      <td>64631.000000</td>\n",
       "      <td>109.500000</td>\n",
       "      <td>0.000000</td>\n",
       "      <td>532.800000</td>\n",
       "    </tr>\n",
       "    <tr>\n",
       "      <th>max</th>\n",
       "      <td>5.816655e+06</td>\n",
       "      <td>99960.000000</td>\n",
       "      <td>35354.000000</td>\n",
       "      <td>5.000000</td>\n",
       "      <td>2893.239678</td>\n",
       "    </tr>\n",
       "  </tbody>\n",
       "</table>\n",
       "</div>"
      ],
      "text/plain": [
       "       customer_lifetime_value        income  monthly_premium_auto  \\\n",
       "count             1.068000e+03   1071.000000           1071.000000   \n",
       "mean              7.936903e+05  39295.701214            193.234360   \n",
       "std               6.434784e+05  30469.427060           1601.190369   \n",
       "min               2.004351e+05      0.000000             61.000000   \n",
       "25%               4.034080e+05  14072.000000             68.000000   \n",
       "50%               5.881742e+05  36234.000000             83.000000   \n",
       "75%               8.962872e+05  64631.000000            109.500000   \n",
       "max               5.816655e+06  99960.000000          35354.000000   \n",
       "\n",
       "       number_of_open_complaints  total_claim_amount  \n",
       "count                1071.000000         1071.000000  \n",
       "mean                    0.394024          404.986909  \n",
       "std                     0.883769          293.027260  \n",
       "min                     0.000000            0.382107  \n",
       "25%                     0.000000          202.157702  \n",
       "50%                     0.000000          354.729129  \n",
       "75%                     0.000000          532.800000  \n",
       "max                     5.000000         2893.239678  "
      ]
     },
     "execution_count": 744,
     "metadata": {},
     "output_type": "execute_result"
    }
   ],
   "source": [
    "df_numerical.describe()"
   ]
  },
  {
   "cell_type": "code",
   "execution_count": 745,
   "id": "22311611-00b9-425b-8b7f-38ee5303970e",
   "metadata": {},
   "outputs": [],
   "source": [
    "avg_customer_lifetime_value = df.customer_lifetime_value.mean()\n",
    "avg_income = df.income.mean()\n",
    "avg_monthly_premium_auto = df.monthly_premium_auto.mean()\n",
    "avg_number_of_open_complaints = df.number_of_open_complaints.mean()\n",
    "avg_total_claim_amount = df.total_claim_amount.mean()"
   ]
  },
  {
   "cell_type": "code",
   "execution_count": 746,
   "id": "8cb6bab3-b00d-4954-886a-81eae3d88d2e",
   "metadata": {},
   "outputs": [],
   "source": [
    "df[\"customer_lifetime_value\"] = df[\"customer_lifetime_value\"].fillna(avg_customer_lifetime_value)\n",
    "df[\"income\"] = df[\"income\"].fillna(avg_income)\n",
    "df[\"monthly_premium_auto\"] = df[\"monthly_premium_auto\"].fillna(avg_monthly_premium_auto)\n",
    "df[\"number_of_open_complaints\"] = df[\"number_of_open_complaints\"].fillna(avg_number_of_open_complaints)\n",
    "df[\"total_claim_amount\"] = df[\"total_claim_amount\"].fillna(avg_total_claim_amount)"
   ]
  },
  {
   "cell_type": "code",
   "execution_count": 792,
   "id": "5610a167-613b-4715-b313-80f39e9a0740",
   "metadata": {},
   "outputs": [
    {
     "data": {
      "text/html": [
       "<div>\n",
       "<style scoped>\n",
       "    .dataframe tbody tr th:only-of-type {\n",
       "        vertical-align: middle;\n",
       "    }\n",
       "\n",
       "    .dataframe tbody tr th {\n",
       "        vertical-align: top;\n",
       "    }\n",
       "\n",
       "    .dataframe thead th {\n",
       "        text-align: right;\n",
       "    }\n",
       "</style>\n",
       "<table border=\"1\" class=\"dataframe\">\n",
       "  <thead>\n",
       "    <tr style=\"text-align: right;\">\n",
       "      <th></th>\n",
       "      <th>customer</th>\n",
       "      <th>state</th>\n",
       "      <th>gender</th>\n",
       "      <th>education</th>\n",
       "      <th>customer_lifetime_value</th>\n",
       "      <th>income</th>\n",
       "      <th>monthly_premium_auto</th>\n",
       "      <th>number_of_open_complaints</th>\n",
       "      <th>policy_type</th>\n",
       "      <th>vehicle_class</th>\n",
       "      <th>total_claim_amount</th>\n",
       "    </tr>\n",
       "  </thead>\n",
       "  <tbody>\n",
       "    <tr>\n",
       "      <th>0</th>\n",
       "      <td>False</td>\n",
       "      <td>False</td>\n",
       "      <td>True</td>\n",
       "      <td>False</td>\n",
       "      <td>False</td>\n",
       "      <td>False</td>\n",
       "      <td>False</td>\n",
       "      <td>False</td>\n",
       "      <td>False</td>\n",
       "      <td>False</td>\n",
       "      <td>False</td>\n",
       "    </tr>\n",
       "    <tr>\n",
       "      <th>1</th>\n",
       "      <td>False</td>\n",
       "      <td>False</td>\n",
       "      <td>False</td>\n",
       "      <td>False</td>\n",
       "      <td>False</td>\n",
       "      <td>False</td>\n",
       "      <td>False</td>\n",
       "      <td>False</td>\n",
       "      <td>False</td>\n",
       "      <td>False</td>\n",
       "      <td>False</td>\n",
       "    </tr>\n",
       "    <tr>\n",
       "      <th>2</th>\n",
       "      <td>False</td>\n",
       "      <td>False</td>\n",
       "      <td>False</td>\n",
       "      <td>False</td>\n",
       "      <td>False</td>\n",
       "      <td>False</td>\n",
       "      <td>False</td>\n",
       "      <td>False</td>\n",
       "      <td>False</td>\n",
       "      <td>False</td>\n",
       "      <td>False</td>\n",
       "    </tr>\n",
       "    <tr>\n",
       "      <th>3</th>\n",
       "      <td>False</td>\n",
       "      <td>False</td>\n",
       "      <td>False</td>\n",
       "      <td>False</td>\n",
       "      <td>False</td>\n",
       "      <td>False</td>\n",
       "      <td>False</td>\n",
       "      <td>False</td>\n",
       "      <td>False</td>\n",
       "      <td>False</td>\n",
       "      <td>False</td>\n",
       "    </tr>\n",
       "    <tr>\n",
       "      <th>4</th>\n",
       "      <td>False</td>\n",
       "      <td>False</td>\n",
       "      <td>False</td>\n",
       "      <td>False</td>\n",
       "      <td>False</td>\n",
       "      <td>False</td>\n",
       "      <td>False</td>\n",
       "      <td>False</td>\n",
       "      <td>False</td>\n",
       "      <td>False</td>\n",
       "      <td>False</td>\n",
       "    </tr>\n",
       "    <tr>\n",
       "      <th>...</th>\n",
       "      <td>...</td>\n",
       "      <td>...</td>\n",
       "      <td>...</td>\n",
       "      <td>...</td>\n",
       "      <td>...</td>\n",
       "      <td>...</td>\n",
       "      <td>...</td>\n",
       "      <td>...</td>\n",
       "      <td>...</td>\n",
       "      <td>...</td>\n",
       "      <td>...</td>\n",
       "    </tr>\n",
       "    <tr>\n",
       "      <th>4003</th>\n",
       "      <td>True</td>\n",
       "      <td>True</td>\n",
       "      <td>True</td>\n",
       "      <td>True</td>\n",
       "      <td>False</td>\n",
       "      <td>False</td>\n",
       "      <td>False</td>\n",
       "      <td>False</td>\n",
       "      <td>True</td>\n",
       "      <td>True</td>\n",
       "      <td>False</td>\n",
       "    </tr>\n",
       "    <tr>\n",
       "      <th>4004</th>\n",
       "      <td>True</td>\n",
       "      <td>True</td>\n",
       "      <td>True</td>\n",
       "      <td>True</td>\n",
       "      <td>False</td>\n",
       "      <td>False</td>\n",
       "      <td>False</td>\n",
       "      <td>False</td>\n",
       "      <td>True</td>\n",
       "      <td>True</td>\n",
       "      <td>False</td>\n",
       "    </tr>\n",
       "    <tr>\n",
       "      <th>4005</th>\n",
       "      <td>True</td>\n",
       "      <td>True</td>\n",
       "      <td>True</td>\n",
       "      <td>True</td>\n",
       "      <td>False</td>\n",
       "      <td>False</td>\n",
       "      <td>False</td>\n",
       "      <td>False</td>\n",
       "      <td>True</td>\n",
       "      <td>True</td>\n",
       "      <td>False</td>\n",
       "    </tr>\n",
       "    <tr>\n",
       "      <th>4006</th>\n",
       "      <td>True</td>\n",
       "      <td>True</td>\n",
       "      <td>True</td>\n",
       "      <td>True</td>\n",
       "      <td>False</td>\n",
       "      <td>False</td>\n",
       "      <td>False</td>\n",
       "      <td>False</td>\n",
       "      <td>True</td>\n",
       "      <td>True</td>\n",
       "      <td>False</td>\n",
       "    </tr>\n",
       "    <tr>\n",
       "      <th>4007</th>\n",
       "      <td>True</td>\n",
       "      <td>True</td>\n",
       "      <td>True</td>\n",
       "      <td>True</td>\n",
       "      <td>False</td>\n",
       "      <td>False</td>\n",
       "      <td>False</td>\n",
       "      <td>False</td>\n",
       "      <td>True</td>\n",
       "      <td>True</td>\n",
       "      <td>False</td>\n",
       "    </tr>\n",
       "  </tbody>\n",
       "</table>\n",
       "<p>4008 rows × 11 columns</p>\n",
       "</div>"
      ],
      "text/plain": [
       "      customer  state  gender  education  customer_lifetime_value  income  \\\n",
       "0        False  False    True      False                    False   False   \n",
       "1        False  False   False      False                    False   False   \n",
       "2        False  False   False      False                    False   False   \n",
       "3        False  False   False      False                    False   False   \n",
       "4        False  False   False      False                    False   False   \n",
       "...        ...    ...     ...        ...                      ...     ...   \n",
       "4003      True   True    True       True                    False   False   \n",
       "4004      True   True    True       True                    False   False   \n",
       "4005      True   True    True       True                    False   False   \n",
       "4006      True   True    True       True                    False   False   \n",
       "4007      True   True    True       True                    False   False   \n",
       "\n",
       "      monthly_premium_auto  number_of_open_complaints  policy_type  \\\n",
       "0                    False                      False        False   \n",
       "1                    False                      False        False   \n",
       "2                    False                      False        False   \n",
       "3                    False                      False        False   \n",
       "4                    False                      False        False   \n",
       "...                    ...                        ...          ...   \n",
       "4003                 False                      False         True   \n",
       "4004                 False                      False         True   \n",
       "4005                 False                      False         True   \n",
       "4006                 False                      False         True   \n",
       "4007                 False                      False         True   \n",
       "\n",
       "      vehicle_class  total_claim_amount  \n",
       "0             False               False  \n",
       "1             False               False  \n",
       "2             False               False  \n",
       "3             False               False  \n",
       "4             False               False  \n",
       "...             ...                 ...  \n",
       "4003           True               False  \n",
       "4004           True               False  \n",
       "4005           True               False  \n",
       "4006           True               False  \n",
       "4007           True               False  \n",
       "\n",
       "[4008 rows x 11 columns]"
      ]
     },
     "execution_count": 792,
     "metadata": {},
     "output_type": "execute_result"
    }
   ],
   "source": [
    "df.isna()"
   ]
  },
  {
   "cell_type": "markdown",
   "id": "98416351-e999-4156-9834-9b00a311adfa",
   "metadata": {
    "id": "98416351-e999-4156-9834-9b00a311adfa"
   },
   "source": [
    "## Exercise 5: Dealing with duplicates"
   ]
  },
  {
   "cell_type": "markdown",
   "id": "ea0816a7-a18e-4d4c-b667-a8452a800bd1",
   "metadata": {
    "id": "ea0816a7-a18e-4d4c-b667-a8452a800bd1"
   },
   "source": [
    "Use the `.duplicated()` method to identify any duplicate rows in the dataframe.\n",
    "\n",
    "Decide on a strategy for handling the duplicates. Options include:\n",
    "- Dropping all duplicate rows\n",
    "- Keeping only the first occurrence of each duplicated row\n",
    "- Keeping only the last occurrence of each duplicated row\n",
    "- Dropping duplicates based on a subset of columns\n",
    "- Dropping duplicates based on a specific column\n",
    "\n",
    "Implement your chosen strategy using the `drop_duplicates()` function.\n",
    "\n",
    "Verify that your strategy has successfully handled the duplicates by checking for duplicates again using `.duplicated()`.\n",
    "\n",
    "Remember to document your process and explain your reasoning for choosing a particular strategy for handling duplicates.\n",
    "\n",
    "Save the cleaned dataset to a new CSV file.\n",
    "\n",
    "*Hint*: *after dropping duplicates, reset the index to ensure consistency*."
   ]
  },
  {
   "cell_type": "code",
   "execution_count": 794,
   "id": "1929362c-47ed-47cb-baca-358b78d401a0",
   "metadata": {
    "id": "1929362c-47ed-47cb-baca-358b78d401a0"
   },
   "outputs": [
    {
     "data": {
      "text/plain": [
       "2936"
      ]
     },
     "execution_count": 794,
     "metadata": {},
     "output_type": "execute_result"
    }
   ],
   "source": [
    "# Your code here\n",
    "df.duplicated().sum()"
   ]
  },
  {
   "cell_type": "code",
   "execution_count": 796,
   "id": "8aa13c6a-e99a-41cf-8003-25acf89c55a6",
   "metadata": {},
   "outputs": [
    {
     "data": {
      "text/html": [
       "<div>\n",
       "<style scoped>\n",
       "    .dataframe tbody tr th:only-of-type {\n",
       "        vertical-align: middle;\n",
       "    }\n",
       "\n",
       "    .dataframe tbody tr th {\n",
       "        vertical-align: top;\n",
       "    }\n",
       "\n",
       "    .dataframe thead th {\n",
       "        text-align: right;\n",
       "    }\n",
       "</style>\n",
       "<table border=\"1\" class=\"dataframe\">\n",
       "  <thead>\n",
       "    <tr style=\"text-align: right;\">\n",
       "      <th></th>\n",
       "      <th>customer</th>\n",
       "      <th>state</th>\n",
       "      <th>gender</th>\n",
       "      <th>education</th>\n",
       "      <th>customer_lifetime_value</th>\n",
       "      <th>income</th>\n",
       "      <th>monthly_premium_auto</th>\n",
       "      <th>number_of_open_complaints</th>\n",
       "      <th>policy_type</th>\n",
       "      <th>vehicle_class</th>\n",
       "      <th>total_claim_amount</th>\n",
       "    </tr>\n",
       "  </thead>\n",
       "  <tbody>\n",
       "    <tr>\n",
       "      <th>0</th>\n",
       "      <td>RB50392</td>\n",
       "      <td>Washington</td>\n",
       "      <td>NaN</td>\n",
       "      <td>Master</td>\n",
       "      <td>7.936903e+05</td>\n",
       "      <td>0.000000</td>\n",
       "      <td>1000.00000</td>\n",
       "      <td>0.000000</td>\n",
       "      <td>Personal Auto</td>\n",
       "      <td>Four-Door Car</td>\n",
       "      <td>2.704934</td>\n",
       "    </tr>\n",
       "    <tr>\n",
       "      <th>1</th>\n",
       "      <td>QZ44356</td>\n",
       "      <td>Arizona</td>\n",
       "      <td>F</td>\n",
       "      <td>Bachelor</td>\n",
       "      <td>6.979536e+05</td>\n",
       "      <td>0.000000</td>\n",
       "      <td>94.00000</td>\n",
       "      <td>0.000000</td>\n",
       "      <td>Personal Auto</td>\n",
       "      <td>Four-Door Car</td>\n",
       "      <td>1131.464935</td>\n",
       "    </tr>\n",
       "    <tr>\n",
       "      <th>2</th>\n",
       "      <td>AI49188</td>\n",
       "      <td>Nevada</td>\n",
       "      <td>F</td>\n",
       "      <td>Bachelor</td>\n",
       "      <td>1.288743e+06</td>\n",
       "      <td>48767.000000</td>\n",
       "      <td>108.00000</td>\n",
       "      <td>0.000000</td>\n",
       "      <td>Personal Auto</td>\n",
       "      <td>Two-Door Car</td>\n",
       "      <td>566.472247</td>\n",
       "    </tr>\n",
       "    <tr>\n",
       "      <th>3</th>\n",
       "      <td>WW63253</td>\n",
       "      <td>California</td>\n",
       "      <td>M</td>\n",
       "      <td>Bachelor</td>\n",
       "      <td>7.645862e+05</td>\n",
       "      <td>0.000000</td>\n",
       "      <td>106.00000</td>\n",
       "      <td>0.000000</td>\n",
       "      <td>Corporate Auto</td>\n",
       "      <td>SUV</td>\n",
       "      <td>529.881344</td>\n",
       "    </tr>\n",
       "    <tr>\n",
       "      <th>4</th>\n",
       "      <td>GA49547</td>\n",
       "      <td>Washington</td>\n",
       "      <td>M</td>\n",
       "      <td>High School or Below</td>\n",
       "      <td>5.363077e+05</td>\n",
       "      <td>36357.000000</td>\n",
       "      <td>68.00000</td>\n",
       "      <td>0.000000</td>\n",
       "      <td>Personal Auto</td>\n",
       "      <td>Four-Door Car</td>\n",
       "      <td>17.269323</td>\n",
       "    </tr>\n",
       "    <tr>\n",
       "      <th>...</th>\n",
       "      <td>...</td>\n",
       "      <td>...</td>\n",
       "      <td>...</td>\n",
       "      <td>...</td>\n",
       "      <td>...</td>\n",
       "      <td>...</td>\n",
       "      <td>...</td>\n",
       "      <td>...</td>\n",
       "      <td>...</td>\n",
       "      <td>...</td>\n",
       "      <td>...</td>\n",
       "    </tr>\n",
       "    <tr>\n",
       "      <th>1067</th>\n",
       "      <td>VJ51327</td>\n",
       "      <td>California</td>\n",
       "      <td>F</td>\n",
       "      <td>High School or Below</td>\n",
       "      <td>2.031500e+06</td>\n",
       "      <td>63209.000000</td>\n",
       "      <td>102.00000</td>\n",
       "      <td>2.000000</td>\n",
       "      <td>Personal Auto</td>\n",
       "      <td>SUV</td>\n",
       "      <td>207.320041</td>\n",
       "    </tr>\n",
       "    <tr>\n",
       "      <th>1068</th>\n",
       "      <td>GS98873</td>\n",
       "      <td>Arizona</td>\n",
       "      <td>F</td>\n",
       "      <td>Bachelor</td>\n",
       "      <td>3.239125e+05</td>\n",
       "      <td>16061.000000</td>\n",
       "      <td>88.00000</td>\n",
       "      <td>0.000000</td>\n",
       "      <td>Personal Auto</td>\n",
       "      <td>Four-Door Car</td>\n",
       "      <td>633.600000</td>\n",
       "    </tr>\n",
       "    <tr>\n",
       "      <th>1069</th>\n",
       "      <td>CW49887</td>\n",
       "      <td>California</td>\n",
       "      <td>F</td>\n",
       "      <td>Master</td>\n",
       "      <td>4.626801e+05</td>\n",
       "      <td>79487.000000</td>\n",
       "      <td>114.00000</td>\n",
       "      <td>0.000000</td>\n",
       "      <td>Special Auto</td>\n",
       "      <td>SUV</td>\n",
       "      <td>547.200000</td>\n",
       "    </tr>\n",
       "    <tr>\n",
       "      <th>1070</th>\n",
       "      <td>MY31220</td>\n",
       "      <td>California</td>\n",
       "      <td>F</td>\n",
       "      <td>College</td>\n",
       "      <td>8.997040e+05</td>\n",
       "      <td>54230.000000</td>\n",
       "      <td>112.00000</td>\n",
       "      <td>0.000000</td>\n",
       "      <td>Personal Auto</td>\n",
       "      <td>Two-Door Car</td>\n",
       "      <td>537.600000</td>\n",
       "    </tr>\n",
       "    <tr>\n",
       "      <th>1071</th>\n",
       "      <td>NaN</td>\n",
       "      <td>NaN</td>\n",
       "      <td>NaN</td>\n",
       "      <td>NaN</td>\n",
       "      <td>7.936903e+05</td>\n",
       "      <td>39295.701214</td>\n",
       "      <td>193.23436</td>\n",
       "      <td>0.394024</td>\n",
       "      <td>NaN</td>\n",
       "      <td>NaN</td>\n",
       "      <td>404.986909</td>\n",
       "    </tr>\n",
       "  </tbody>\n",
       "</table>\n",
       "<p>1072 rows × 11 columns</p>\n",
       "</div>"
      ],
      "text/plain": [
       "     customer       state gender             education  \\\n",
       "0     RB50392  Washington    NaN                Master   \n",
       "1     QZ44356     Arizona      F              Bachelor   \n",
       "2     AI49188      Nevada      F              Bachelor   \n",
       "3     WW63253  California      M              Bachelor   \n",
       "4     GA49547  Washington      M  High School or Below   \n",
       "...       ...         ...    ...                   ...   \n",
       "1067  VJ51327  California      F  High School or Below   \n",
       "1068  GS98873     Arizona      F              Bachelor   \n",
       "1069  CW49887  California      F                Master   \n",
       "1070  MY31220  California      F               College   \n",
       "1071      NaN         NaN    NaN                   NaN   \n",
       "\n",
       "      customer_lifetime_value        income  monthly_premium_auto  \\\n",
       "0                7.936903e+05      0.000000            1000.00000   \n",
       "1                6.979536e+05      0.000000              94.00000   \n",
       "2                1.288743e+06  48767.000000             108.00000   \n",
       "3                7.645862e+05      0.000000             106.00000   \n",
       "4                5.363077e+05  36357.000000              68.00000   \n",
       "...                       ...           ...                   ...   \n",
       "1067             2.031500e+06  63209.000000             102.00000   \n",
       "1068             3.239125e+05  16061.000000              88.00000   \n",
       "1069             4.626801e+05  79487.000000             114.00000   \n",
       "1070             8.997040e+05  54230.000000             112.00000   \n",
       "1071             7.936903e+05  39295.701214             193.23436   \n",
       "\n",
       "      number_of_open_complaints     policy_type  vehicle_class  \\\n",
       "0                      0.000000   Personal Auto  Four-Door Car   \n",
       "1                      0.000000   Personal Auto  Four-Door Car   \n",
       "2                      0.000000   Personal Auto   Two-Door Car   \n",
       "3                      0.000000  Corporate Auto            SUV   \n",
       "4                      0.000000   Personal Auto  Four-Door Car   \n",
       "...                         ...             ...            ...   \n",
       "1067                   2.000000   Personal Auto            SUV   \n",
       "1068                   0.000000   Personal Auto  Four-Door Car   \n",
       "1069                   0.000000    Special Auto            SUV   \n",
       "1070                   0.000000   Personal Auto   Two-Door Car   \n",
       "1071                   0.394024             NaN            NaN   \n",
       "\n",
       "      total_claim_amount  \n",
       "0               2.704934  \n",
       "1            1131.464935  \n",
       "2             566.472247  \n",
       "3             529.881344  \n",
       "4              17.269323  \n",
       "...                  ...  \n",
       "1067          207.320041  \n",
       "1068          633.600000  \n",
       "1069          547.200000  \n",
       "1070          537.600000  \n",
       "1071          404.986909  \n",
       "\n",
       "[1072 rows x 11 columns]"
      ]
     },
     "execution_count": 796,
     "metadata": {},
     "output_type": "execute_result"
    }
   ],
   "source": [
    "df.drop_duplicates()"
   ]
  },
  {
   "cell_type": "markdown",
   "id": "60840701-4783-40e2-b4d8-55303f9100c9",
   "metadata": {
    "id": "60840701-4783-40e2-b4d8-55303f9100c9"
   },
   "source": [
    "# Bonus: Challenge 2: creating functions on a separate `py` file"
   ]
  },
  {
   "cell_type": "markdown",
   "id": "9d1adb3a-17cf-4899-8041-da21a4337fb4",
   "metadata": {
    "id": "9d1adb3a-17cf-4899-8041-da21a4337fb4"
   },
   "source": [
    "Put all the data cleaning and formatting steps into functions, and create a main function that performs all the cleaning and formatting.\n",
    "\n",
    "Write these functions in separate .py file(s). By putting these steps into functions, we can make the code more modular and easier to maintain."
   ]
  },
  {
   "cell_type": "markdown",
   "id": "0e170dc2-b62c-417a-8248-e63ed18a70c4",
   "metadata": {
    "id": "0e170dc2-b62c-417a-8248-e63ed18a70c4"
   },
   "source": [
    "*Hint: autoreload module is a utility module in Python that allows you to automatically reload modules in the current session when changes are made to the source code. This can be useful in situations where you are actively developing code and want to see the effects of changes you make without having to constantly restart the Python interpreter or Jupyter Notebook kernel.*"
   ]
  },
  {
   "cell_type": "code",
   "execution_count": 753,
   "id": "a52c6dfc-cd11-4d01-bda4-f719fa33e9a4",
   "metadata": {
    "id": "a52c6dfc-cd11-4d01-bda4-f719fa33e9a4"
   },
   "outputs": [],
   "source": [
    "# Your code here"
   ]
  },
  {
   "cell_type": "markdown",
   "id": "80f846bb-3f5e-4ca2-96c0-900728daca5a",
   "metadata": {
    "id": "80f846bb-3f5e-4ca2-96c0-900728daca5a",
    "tags": []
   },
   "source": [
    "# Bonus: Challenge 3: Analyzing Clean and Formated Data"
   ]
  },
  {
   "cell_type": "markdown",
   "id": "9021630e-cc90-446c-b5bd-264d6c864207",
   "metadata": {
    "id": "9021630e-cc90-446c-b5bd-264d6c864207"
   },
   "source": [
    "You have been tasked with analyzing the data to identify potential areas for improving customer retention and profitability. Your goal is to identify customers with a high policy claim amount and a low customer lifetime value.\n",
    "\n",
    "In the Pandas Lab, we only looked at high policy claim amounts because we couldn't look into low customer lifetime values. If we had tried to work with that column, we wouldn't have been able to because customer lifetime value wasn't clean and in its proper format. So after cleaning and formatting the data, let's get some more interesting insights!\n",
    "\n",
    "Instructions:\n",
    "\n",
    "- Review the statistics again for total claim amount and customer lifetime value to gain an understanding of the data.\n",
    "- To identify potential areas for improving customer retention and profitability, we want to focus on customers with a high policy claim amount and a low customer lifetime value. Consider customers with a high policy claim amount to be those in the top 25% of the total claim amount, and clients with a low customer lifetime value to be those in the bottom 25% of the customer lifetime value. Create a pandas DataFrame object that contains information about customers with a policy claim amount greater than the 75th percentile and a customer lifetime value in the bottom 25th percentile.\n",
    "- Use DataFrame methods to calculate summary statistics about the high policy claim amount and low customer lifetime value data. To do so, select both columns of the dataframe simultaneously and pass it to the `.describe()` method. This will give you descriptive statistics, such as mean, median, standard deviation, minimum and maximum values for both columns at the same time, allowing you to compare and analyze their characteristics."
   ]
  },
  {
   "cell_type": "code",
   "execution_count": 756,
   "id": "211e82b5-461a-4d6f-8a23-4deccb84173c",
   "metadata": {
    "id": "211e82b5-461a-4d6f-8a23-4deccb84173c"
   },
   "outputs": [],
   "source": [
    "# Your code here"
   ]
  }
 ],
 "metadata": {
  "colab": {
   "provenance": []
  },
  "kernelspec": {
   "display_name": "Python 3 (ipykernel)",
   "language": "python",
   "name": "python3"
  },
  "language_info": {
   "codemirror_mode": {
    "name": "ipython",
    "version": 3
   },
   "file_extension": ".py",
   "mimetype": "text/x-python",
   "name": "python",
   "nbconvert_exporter": "python",
   "pygments_lexer": "ipython3",
   "version": "3.12.4"
  }
 },
 "nbformat": 4,
 "nbformat_minor": 5
}
